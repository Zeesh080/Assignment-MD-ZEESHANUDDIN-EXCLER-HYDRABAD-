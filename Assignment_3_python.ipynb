{
 "cells": [
  {
   "cell_type": "code",
   "execution_count": null,
   "id": "88022c85-7282-4922-8e07-8cb0ec9f6ba4",
   "metadata": {},
   "outputs": [],
   "source": [
    "#PYTHON PROGRAMMING ASSIGNMENT"
   ]
  },
  {
   "cell_type": "code",
   "execution_count": 1,
   "id": "679633de-d2a2-4256-8760-785b6d5a7208",
   "metadata": {},
   "outputs": [
    {
     "name": "stdin",
     "output_type": "stream",
     "text": [
      "Enter a number:  5\n"
     ]
    },
    {
     "name": "stdout",
     "output_type": "stream",
     "text": [
      "5 is a prime number.\n"
     ]
    }
   ],
   "source": [
    "#Exercise 1: Prime Numbers\n",
    "def is_prime(n):\n",
    "    if n <= 1:\n",
    "        return False\n",
    "    for i in range(2, int(n**0.5) + 1):\n",
    "        if n % i == 0:\n",
    "            return False\n",
    "    return True\n",
    "num = int(input(\"Enter a number : \"))\n",
    "if is_prime(num):\n",
    "    print(f'{num} is a prime number.')\n",
    "else:\n",
    "    print(f'{num} is not a prime number.')\n"
   ]
  },
  {
   "cell_type": "code",
   "execution_count": 5,
   "id": "065800dd-658b-499c-b30d-7584ea3a5bc5",
   "metadata": {},
   "outputs": [
    {
     "name": "stdin",
     "output_type": "stream",
     "text": [
      "What is the product of 755 and 117?  654\n"
     ]
    },
    {
     "name": "stdout",
     "output_type": "stream",
     "text": [
      "Incorrect. The correct answer is 88335.\n"
     ]
    }
   ],
   "source": [
    "#Exercise 2: Product of Random Numbers\n",
    "import random\n",
    "def product_quiz():\n",
    "    num1 = random.randint(1, 1000)\n",
    "    num2 = random.randint(1, 1000)\n",
    "    correct_answer = num1 * num2\n",
    "    user_answer = int(input(f\"What is the product of {num1} and {num2}? \"))\n",
    "    if user_answer == correct_answer:\n",
    "        print(\"Correct Answer\")\n",
    "    else:\n",
    "        print(f\"Incorrect. The correct answer is {correct_answer}.\")\n",
    "product_quiz()"
   ]
  },
  {
   "cell_type": "code",
   "execution_count": 9,
   "id": "5b2661af-6204-4ebb-92de-4c82bad035c1",
   "metadata": {},
   "outputs": [
    {
     "name": "stdin",
     "output_type": "stream",
     "text": [
      "Do you want to print squares of 'even' or 'odd' numbers?  even\n"
     ]
    },
    {
     "name": "stdout",
     "output_type": "stream",
     "text": [
      "Squares of even numbers from 100 to 200:\n",
      "The square of 100 is 10000\n",
      "The square of 102 is 10404\n",
      "The square of 104 is 10816\n",
      "The square of 106 is 11236\n",
      "The square of 108 is 11664\n",
      "The square of 110 is 12100\n",
      "The square of 112 is 12544\n",
      "The square of 114 is 12996\n",
      "The square of 116 is 13456\n",
      "The square of 118 is 13924\n",
      "The square of 120 is 14400\n",
      "The square of 122 is 14884\n",
      "The square of 124 is 15376\n",
      "The square of 126 is 15876\n",
      "The square of 128 is 16384\n",
      "The square of 130 is 16900\n",
      "The square of 132 is 17424\n",
      "The square of 134 is 17956\n",
      "The square of 136 is 18496\n",
      "The square of 138 is 19044\n",
      "The square of 140 is 19600\n",
      "The square of 142 is 20164\n",
      "The square of 144 is 20736\n",
      "The square of 146 is 21316\n",
      "The square of 148 is 21904\n",
      "The square of 150 is 22500\n",
      "The square of 152 is 23104\n",
      "The square of 154 is 23716\n",
      "The square of 156 is 24336\n",
      "The square of 158 is 24964\n",
      "The square of 160 is 25600\n",
      "The square of 162 is 26244\n",
      "The square of 164 is 26896\n",
      "The square of 166 is 27556\n",
      "The square of 168 is 28224\n",
      "The square of 170 is 28900\n",
      "The square of 172 is 29584\n",
      "The square of 174 is 30276\n",
      "The square of 176 is 30976\n",
      "The square of 178 is 31684\n",
      "The square of 180 is 32400\n",
      "The square of 182 is 33124\n",
      "The square of 184 is 33856\n",
      "The square of 186 is 34596\n",
      "The square of 188 is 35344\n",
      "The square of 190 is 36100\n",
      "The square of 192 is 36864\n",
      "The square of 194 is 37636\n",
      "The square of 196 is 38416\n",
      "The square of 198 is 39204\n",
      "The square of 200 is 40000\n"
     ]
    }
   ],
   "source": [
    "#Exercise 3: Squares of Even/Odd Numbers\n",
    "def print_squares(choice):\n",
    "    if choice == 'even':\n",
    "        print(\"Squares of even numbers from 100 to 200:\")\n",
    "        for number in range(100, 201):\n",
    "            if number % 2 == 0:\n",
    "                print(f\"The square of {number} is {number**2}\")\n",
    "    elif choice == 'odd':\n",
    "        print(\"Squares of odd numbers from 100 to 200:\")\n",
    "        for number in range(100, 201):\n",
    "            if number % 2 != 0:\n",
    "                print(f\"The square of {number} is {number**2}\")\n",
    "    else:\n",
    "        print(\"Invalid choice. Please choose 'even' or 'odd'.\")\n",
    "user_choice = input(\"Do you want to print squares of 'even' or 'odd' numbers? \").lower()\n",
    "print_squares(user_choice)\n"
   ]
  },
  {
   "cell_type": "code",
   "execution_count": 19,
   "id": "89359977-d9ae-4334-9e5b-d6d219355e0e",
   "metadata": {},
   "outputs": [
    {
     "name": "stdin",
     "output_type": "stream",
     "text": [
      "Just paste the paragraph : The sun set over the horizon, casting a warm golden glow across the landscape. Birds chirped their final songs of the day, while a gentle breeze rustled the leaves. Children played in the park, their laughter echoing through the air. As night approached, the sky transformed into a canvas of stars, promising a peaceful and serene evening\n"
     ]
    },
    {
     "name": "stdout",
     "output_type": "stream",
     "text": [
      "'the': 8\n",
      "'sun': 1\n",
      "'set': 1\n",
      "'over': 1\n",
      "'horizon': 1\n",
      "'casting': 1\n",
      "'a': 4\n",
      "'warm': 1\n",
      "'golden': 1\n",
      "'glow': 1\n",
      "'across': 1\n",
      "'landscape': 1\n",
      "'birds': 1\n",
      "'chirped': 1\n",
      "'their': 2\n",
      "'final': 1\n",
      "'songs': 1\n",
      "'of': 2\n",
      "'day': 1\n",
      "'while': 1\n",
      "'gentle': 1\n",
      "'breeze': 1\n",
      "'rustled': 1\n",
      "'leaves': 1\n",
      "'children': 1\n",
      "'played': 1\n",
      "'in': 1\n",
      "'park': 1\n",
      "'laughter': 1\n",
      "'echoing': 1\n",
      "'through': 1\n",
      "'air': 1\n",
      "'as': 1\n",
      "'night': 1\n",
      "'approached': 1\n",
      "'sky': 1\n",
      "'transformed': 1\n",
      "'into': 1\n",
      "'canvas': 1\n",
      "'stars': 1\n",
      "'promising': 1\n",
      "'peaceful': 1\n",
      "'and': 1\n",
      "'serene': 1\n",
      "'evening': 1\n"
     ]
    }
   ],
   "source": [
    "#Exercise 4: Word counter\n",
    "def word_counter(input_text):\n",
    "    words = input_text.split()\n",
    "    word_count = {}\n",
    "    for word in words:\n",
    "        word = word.strip('.,!?').lower()\n",
    "        if word in word_count:\n",
    "            word_count[word] += 1\n",
    "        else:\n",
    "            word_count[word] = 1\n",
    "    return word_count\n",
    "input_text = input(\"Just paste the paragraph :\")\n",
    "word_count = word_counter(input_text)\n",
    "for word, count in word_count.items():\n",
    "    print(f\"'{word}': {count}\")\n"
   ]
  },
  {
   "cell_type": "code",
   "execution_count": 21,
   "id": "54cafdd4-7116-436e-8e15-8164371dfee6",
   "metadata": {},
   "outputs": [
    {
     "name": "stdin",
     "output_type": "stream",
     "text": [
      "Enter the word racecar\n"
     ]
    },
    {
     "name": "stdout",
     "output_type": "stream",
     "text": [
      "'racecar' is a palindrome.\n"
     ]
    }
   ],
   "source": [
    "#Exercise 5: Check for Palindrome\n",
    "def is_palindrome(s):\n",
    "    s = ''.join(e for e in s if e.isalnum()).lower()\n",
    "    return s == s[::-1]\n",
    "input_string = input(\"Enter the word\")\n",
    "if is_palindrome(input_string):\n",
    "    print(f\"'{input_string}' is a palindrome.\")\n",
    "else:\n",
    "    print(f\"'{input_string}' is not a palindrome.\")\n"
   ]
  }
 ],
 "metadata": {
  "kernelspec": {
   "display_name": "Python 3 (ipykernel)",
   "language": "python",
   "name": "python3"
  },
  "language_info": {
   "codemirror_mode": {
    "name": "ipython",
    "version": 3
   },
   "file_extension": ".py",
   "mimetype": "text/x-python",
   "name": "python",
   "nbconvert_exporter": "python",
   "pygments_lexer": "ipython3",
   "version": "3.12.4"
  }
 },
 "nbformat": 4,
 "nbformat_minor": 5
}
