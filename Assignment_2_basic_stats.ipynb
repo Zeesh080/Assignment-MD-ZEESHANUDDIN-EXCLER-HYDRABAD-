{
 "cells": [
  {
   "cell_type": "code",
   "execution_count": 13,
   "id": "54ad2303-0568-4c86-a9f9-fe4db00de4a9",
   "metadata": {},
   "outputs": [
    {
     "name": "stdout",
     "output_type": "stream",
     "text": [
      "Sample Mean :1.2386666666666666\n",
      "Sample Standard Deviation :0.19316412956959936\n",
      "\n",
      "Task a - 99% Confidence Interval Using \"Sample Standard Deviation\" :(1.0901973384384906, 1.3871359948948425)\n",
      "Task b - 99% Confidence Interval Using Known \"Population Standard Deviation\" :(1.1056514133957607, 1.3716819199375725)\n"
     ]
    }
   ],
   "source": [
    "import numpy as np\n",
    "from scipy import stats\n",
    "data = [1.13, 1.55, 1.43, 0.92, 1.25, 1.36, 1.32, 0.85, 1.07, 1.48, 1.20, 1.33, 1.18, 1.22, 1.29]\n",
    "\n",
    "#to calculate sample mean and sample std\n",
    "sample_mean = np.mean(data)\n",
    "sample_std = np.std(data, ddof=1)\n",
    "n = len(data) # sample size (15)\n",
    "c_level = 0.99 # 99% confidence \n",
    "\n",
    "# task 1 t_distribution \n",
    "t_critical = stats.t.ppf((1 + c_level)/2,df=n-1) \n",
    "margin_sample_std = t_critical * (sample_std/np.sqrt(n)) \n",
    "confidence_interval_sample_std = (sample_mean - margin_sample_std , sample_mean + margin_sample_std)\n",
    "\n",
    "#task 2 \n",
    "population_std = 0.2 #given in the problem statement\n",
    "z_critical = stats.norm.ppf((1 + c_level)/2)\n",
    "margin_population_std = z_critical * (population_std/np.sqrt(n))\n",
    "confidence_interval_population_std = (sample_mean - margin_population_std,sample_mean + margin_population_std)\n",
    "\n",
    "print(f'Sample Mean :{sample_mean}')\n",
    "print(f'Sample Standard Deviation :{sample_std}\\n')\n",
    "print(f'Task a - 99% Confidence Interval Using \"Sample Standard Deviation\" :{interval_sample_std}')\n",
    "print(f'Task b - 99% Confidence Interval Using Known \"Population Standard Deviation\" :{interval_population_std}')\n"
   ]
  }
 ],
 "metadata": {
  "kernelspec": {
   "display_name": "Python 3 (ipykernel)",
   "language": "python",
   "name": "python3"
  },
  "language_info": {
   "codemirror_mode": {
    "name": "ipython",
    "version": 3
   },
   "file_extension": ".py",
   "mimetype": "text/x-python",
   "name": "python",
   "nbconvert_exporter": "python",
   "pygments_lexer": "ipython3",
   "version": "3.12.4"
  }
 },
 "nbformat": 4,
 "nbformat_minor": 5
}
