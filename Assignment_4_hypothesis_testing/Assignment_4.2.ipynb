{
 "cells": [
  {
   "cell_type": "code",
   "execution_count": 3,
   "id": "8ede715d-d3e5-4f53-9b23-73a62ddb93b2",
   "metadata": {},
   "outputs": [
    {
     "name": "stdout",
     "output_type": "stream",
     "text": [
      "Sample Mean: 3050 Rs.\n",
      "Theoretical Mean: 4000 Rs.\n",
      "Standard Deviation: 125 Rs.\n",
      "Sample Size: 25\n",
      "Test Statistic (t): -38.0\n",
      "Critical Value: 1.6448536269514722\n",
      "Decision: Fail to reject the null hypothesis (H0). There is not enough evidence to support the restaurant owners' claim that the weekly operating costs are higher than the model suggests.\n"
     ]
    }
   ],
   "source": [
    "import numpy as np\n",
    "import scipy.stats as stats\n",
    "\n",
    "# Data Provided\n",
    "sample_mean = 3050  # Sample mean weekly cost in Rs.\n",
    "theoretical_mean = 1000 + 5 * 600  # Theoretical mean weekly cost according to the cost model\n",
    "sigma = 5 * 25  # Standard deviation of the weekly cost\n",
    "n = 25  # Sample size\n",
    "\n",
    "# Step 1: State the Hypotheses\n",
    "# H0: The mean weekly operating cost is equal to the theoretical mean (μ = 4000 Rs.)\n",
    "# H1: The mean weekly operating cost is greater than the theoretical mean (μ > 4000 Rs.)\n",
    "\n",
    "# Step 2: Calculate the Test Statistic\n",
    "t_statistic = (sample_mean - theoretical_mean) / (sigma / np.sqrt(n))\n",
    "\n",
    "# Step 3: Determine the Critical Value\n",
    "alpha = 0.05\n",
    "critical_value = stats.norm.ppf(1 - alpha)\n",
    "\n",
    "# Step 4: Make a Decision\n",
    "if t_statistic > critical_value:\n",
    "    decision = \"Reject the null hypothesis (H0). There is strong evidence to support the restaurant owners' claim that the weekly operating costs are higher than the model suggests.\"\n",
    "else:\n",
    "    decision = \"Fail to reject the null hypothesis (H0). There is not enough evidence to support the restaurant owners' claim that the weekly operating costs are higher than the model suggests.\"\n",
    "\n",
    "# Print the results\n",
    "print(f\"Sample Mean: {sample_mean} Rs.\")\n",
    "print(f\"Theoretical Mean: {theoretical_mean} Rs.\")\n",
    "print(f\"Standard Deviation: {sigma} Rs.\")\n",
    "print(f\"Sample Size: {n}\")\n",
    "print(f\"Test Statistic (t): {t_statistic}\")\n",
    "print(f\"Critical Value: {critical_value}\")\n",
    "print(f\"Decision: {decision}\")\n"
   ]
  }
 ],
 "metadata": {
  "kernelspec": {
   "display_name": "Python 3 (ipykernel)",
   "language": "python",
   "name": "python3"
  },
  "language_info": {
   "codemirror_mode": {
    "name": "ipython",
    "version": 3
   },
   "file_extension": ".py",
   "mimetype": "text/x-python",
   "name": "python",
   "nbconvert_exporter": "python",
   "pygments_lexer": "ipython3",
   "version": "3.12.4"
  }
 },
 "nbformat": 4,
 "nbformat_minor": 5
}
