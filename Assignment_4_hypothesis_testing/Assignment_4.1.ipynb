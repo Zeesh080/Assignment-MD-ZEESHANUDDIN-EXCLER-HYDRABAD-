{
 "cells": [
  {
   "cell_type": "code",
   "execution_count": 49,
   "id": "34048b33-afa9-42ee-bf49-fd52480e4902",
   "metadata": {},
   "outputs": [],
   "source": [
    "import numpy as np \n",
    "from scipy.stats import chi2_contingency,chi2\n",
    "contingency_table = np.array([[30,10,10],#smart thermostats\n",
    "                              [20,15,15]#smart lights \n",
    "                             ])"
   ]
  },
  {
   "cell_type": "code",
   "execution_count": 51,
   "id": "4548ac09-b295-4061-885d-948cfec42482",
   "metadata": {},
   "outputs": [],
   "source": [
    "'''TO CALCULATE THE \n",
    "1. State the Hypotheses:\n",
    "2. Compute the Chi-Square Statistic:\n",
    "3. Determine the Critical Value:'''\n",
    "chi2_stats,p_value,dof,Expected =chi2_contingency(contingency_table)\n",
    "#significant value,given\n",
    "alpha = 0.5 \n",
    "critical_value = chi2.ppf(1-alpha, dof)"
   ]
  },
  {
   "cell_type": "code",
   "execution_count": 61,
   "id": "1c42cebb-70d7-4142-a672-57e4f1bda88f",
   "metadata": {},
   "outputs": [
    {
     "name": "stdout",
     "output_type": "stream",
     "text": [
      "Chi-square Statistic :4.0\n",
      "P-value : 0.1353352832366127\n",
      "Expected Frequencies :\n",
      " [[25.  12.5 12.5]\n",
      " [25.  12.5 12.5]]\n",
      "Critical value : 1.386294361119891\n"
     ]
    }
   ],
   "source": [
    "#resluts\n",
    "print(f\"Chi-square Statistic :{chi2_stats}\")\n",
    "print(f\"P-value : {p_value}\")\n",
    "print(f\"Expected Frequencies :\\n {Expected}\")\n",
    "print(f\"Critical value : {critical_value}\")"
   ]
  },
  {
   "cell_type": "code",
   "execution_count": 57,
   "id": "04b01fc3-8b8f-4a1e-92c2-c1b0a8d3f632",
   "metadata": {},
   "outputs": [
    {
     "name": "stdout",
     "output_type": "stream",
     "text": [
      "Reject The Null Hypothesis: There's a significant association between the type of device purchased and the customer's satisfaction\n",
      "\n",
      "Reject The Null Hypothesis: There's a significant association between the type of device purchased and the customer's satisfaction\n"
     ]
    }
   ],
   "source": [
    "#4. Make a Decision:\n",
    "#Compare the Chi-Square statistic with the critical value to decide whether to reject the null hypothesis.\n",
    "#Base on P_value\n",
    "if p_value < alpha :\n",
    "    print(\"Reject The Null Hypothesis: There's a significant association between the type of device purchased and the customer's satisfaction\\n\")\n",
    "else:\n",
    "    print(\"Fail To Reject The Null Hypothesis Based On The Critical Value: There's no significant association between the type of device purchased and the customer's satisfaction\")\n",
    "\n",
    "#Based on Critical Value\n",
    "if chi2_stats > critical_value :\n",
    "    print(\"Reject The Null Hypothesis: There's a significant association between the type of device purchased and the customer's satisfaction\")\n",
    "else:\n",
    "    print(\"Fail To Reject The Null Hypothesis Based On The Critical Value: There's no significant association between the type of device purchased and the customer's satisfaction\")"
   ]
  }
 ],
 "metadata": {
  "kernelspec": {
   "display_name": "Python 3 (ipykernel)",
   "language": "python",
   "name": "python3"
  },
  "language_info": {
   "codemirror_mode": {
    "name": "ipython",
    "version": 3
   },
   "file_extension": ".py",
   "mimetype": "text/x-python",
   "name": "python",
   "nbconvert_exporter": "python",
   "pygments_lexer": "ipython3",
   "version": "3.12.4"
  }
 },
 "nbformat": 4,
 "nbformat_minor": 5
}
